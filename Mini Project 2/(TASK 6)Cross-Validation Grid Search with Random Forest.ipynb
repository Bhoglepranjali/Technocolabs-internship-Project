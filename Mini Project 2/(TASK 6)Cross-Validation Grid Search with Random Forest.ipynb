{
 "cells": [
  {
   "cell_type": "markdown",
   "metadata": {},
   "source": [
    "**Run the following two cells before you begin.**"
   ]
  },
  {
   "cell_type": "code",
   "execution_count": 1,
   "metadata": {},
   "outputs": [
    {
     "data": {
      "application/javascript": [
       "IPython.notebook.set_autosave_interval(10000)"
      ]
     },
     "metadata": {},
     "output_type": "display_data"
    },
    {
     "name": "stdout",
     "output_type": "stream",
     "text": [
      "Autosaving every 10 seconds\n"
     ]
    }
   ],
   "source": [
    "%autosave 10"
   ]
  },
  {
   "cell_type": "code",
   "execution_count": 2,
   "metadata": {},
   "outputs": [],
   "source": [
    "import numpy as np #numerical computation\n",
    "import pandas as pd #data wrangling\n",
    "import matplotlib.pyplot as plt #plotting package\n",
    "#Next line helps with rendering plots\n",
    "%matplotlib inline\n",
    "import matplotlib as mpl #add'l plotting functionality\n",
    "mpl.rcParams['figure.dpi'] = 400 #high res figures\n",
    "import graphviz #to visualize decision trees"
   ]
  },
  {
   "cell_type": "code",
   "execution_count": 3,
   "metadata": {},
   "outputs": [],
   "source": [
    "df = pd.read_csv('cleaned_data.csv')"
   ]
  },
  {
   "cell_type": "markdown",
   "metadata": {},
   "source": [
    "**Run the following 3 cells to create a list of features, create a train/test split, and instantiate a random forest classifier.**"
   ]
  },
  {
   "cell_type": "code",
   "execution_count": 4,
   "metadata": {},
   "outputs": [],
   "source": [
    "features_response = df.columns.tolist()"
   ]
  },
  {
   "cell_type": "code",
   "execution_count": 5,
   "metadata": {},
   "outputs": [],
   "source": [
    "items_to_remove = ['ID', 'SEX', 'PAY_2', 'PAY_3', 'PAY_4', 'PAY_5', 'PAY_6',\n",
    "                   'EDUCATION_CAT', 'graduate school', 'high school', 'none',\n",
    "                   'others', 'university']"
   ]
  },
  {
   "cell_type": "code",
   "execution_count": 6,
   "metadata": {},
   "outputs": [
    {
     "data": {
      "text/plain": [
       "['LIMIT_BAL',\n",
       " 'EDUCATION',\n",
       " 'MARRIAGE',\n",
       " 'AGE',\n",
       " 'PAY_1',\n",
       " 'BILL_AMT1',\n",
       " 'BILL_AMT2',\n",
       " 'BILL_AMT3',\n",
       " 'BILL_AMT4',\n",
       " 'BILL_AMT5',\n",
       " 'BILL_AMT6',\n",
       " 'PAY_AMT1',\n",
       " 'PAY_AMT2',\n",
       " 'PAY_AMT3',\n",
       " 'PAY_AMT4',\n",
       " 'PAY_AMT5',\n",
       " 'PAY_AMT6',\n",
       " 'default payment next month']"
      ]
     },
     "execution_count": 6,
     "metadata": {},
     "output_type": "execute_result"
    }
   ],
   "source": [
    "features_response = [item for item in features_response if item not in items_to_remove]\n",
    "features_response"
   ]
  },
  {
   "cell_type": "code",
   "execution_count": 7,
   "metadata": {},
   "outputs": [],
   "source": [
    "from sklearn.model_selection import train_test_split\n",
    "from sklearn import tree"
   ]
  },
  {
   "cell_type": "code",
   "execution_count": 8,
   "metadata": {},
   "outputs": [],
   "source": [
    "X_train, X_test, y_train, y_test = \\\n",
    "train_test_split(df[features_response[:-1]].values, df['default payment next month'].values,\n",
    "test_size=0.2, random_state=24)"
   ]
  },
  {
   "cell_type": "code",
   "execution_count": 9,
   "metadata": {},
   "outputs": [],
   "source": [
    "from sklearn.ensemble import RandomForestClassifier"
   ]
  },
  {
   "cell_type": "code",
   "execution_count": 10,
   "metadata": {},
   "outputs": [],
   "source": [
    "rf = RandomForestClassifier(\n",
    "        n_estimators=10, criterion='gini', max_depth=3,\n",
    "        min_samples_split=2, min_samples_leaf=1, min_weight_fraction_leaf=0.0,\n",
    "        max_features='auto', max_leaf_nodes=None, min_impurity_decrease=0.0,\n",
    "        min_impurity_split=None, bootstrap=True, oob_score=False, n_jobs=None,\n",
    "        random_state=4, verbose=0, warm_start=False, class_weight=None)"
   ]
  },
  {
   "cell_type": "markdown",
   "metadata": {},
   "source": [
    "**Create a dictionary representing the grid for the `max_depth` and `n_estimators` hyperparameters that will be searched. Include depths of 3, 6, 9, and 12, and 10, 50, 100, and 200 trees.**"
   ]
  },
  {
   "cell_type": "code",
   "execution_count": 11,
   "metadata": {},
   "outputs": [],
   "source": [
    "params = {\n",
    "    'max_depth':[3,6,9,12],\n",
    "    'n_estimators':[10,50,100,200]\n",
    "}\n"
   ]
  },
  {
   "cell_type": "markdown",
   "metadata": {},
   "source": [
    "**Instantiate a `GridSearchCV` object using the same options that we have previously in this course, but with the dictionary of hyperparameters created above. Set `verbose=2` to see the output for each fit performed.**"
   ]
  },
  {
   "cell_type": "code",
   "execution_count": 12,
   "metadata": {},
   "outputs": [],
   "source": [
    "from sklearn.model_selection import GridSearchCV\n"
   ]
  },
  {
   "cell_type": "code",
   "execution_count": 13,
   "metadata": {},
   "outputs": [],
   "source": [
    "cv_rf_ex = GridSearchCV(rf, param_grid=params, scoring='roc_auc',\n",
    "                        n_jobs=None, iid=False, refit=True, cv=4, verbose=1,\n",
    "                        pre_dispatch=None, error_score=np.nan, return_train_score=True)"
   ]
  },
  {
   "cell_type": "markdown",
   "metadata": {},
   "source": [
    "**Fit the `GridSearchCV` object on the training data.**"
   ]
  },
  {
   "cell_type": "code",
   "execution_count": 14,
   "metadata": {},
   "outputs": [
    {
     "name": "stdout",
     "output_type": "stream",
     "text": [
      "Fitting 4 folds for each of 16 candidates, totalling 64 fits\n"
     ]
    },
    {
     "name": "stderr",
     "output_type": "stream",
     "text": [
      "[Parallel(n_jobs=1)]: Using backend SequentialBackend with 1 concurrent workers.\n",
      "[Parallel(n_jobs=1)]: Done  64 out of  64 | elapsed:  3.1min finished\n"
     ]
    },
    {
     "data": {
      "text/plain": [
       "GridSearchCV(cv=4, error_score=nan,\n",
       "             estimator=RandomForestClassifier(bootstrap=True, class_weight=None,\n",
       "                                              criterion='gini', max_depth=3,\n",
       "                                              max_features='auto',\n",
       "                                              max_leaf_nodes=None,\n",
       "                                              min_impurity_decrease=0.0,\n",
       "                                              min_impurity_split=None,\n",
       "                                              min_samples_leaf=1,\n",
       "                                              min_samples_split=2,\n",
       "                                              min_weight_fraction_leaf=0.0,\n",
       "                                              n_estimators=10, n_jobs=None,\n",
       "                                              oob_score=False, random_state=4,\n",
       "                                              verbose=0, warm_start=False),\n",
       "             iid=False, n_jobs=None,\n",
       "             param_grid={'max_depth': [3, 6, 9, 12],\n",
       "                         'n_estimators': [10, 50, 100, 200]},\n",
       "             pre_dispatch=None, refit=True, return_train_score=True,\n",
       "             scoring='roc_auc', verbose=1)"
      ]
     },
     "execution_count": 14,
     "metadata": {},
     "output_type": "execute_result"
    }
   ],
   "source": [
    "cv_rf_ex.fit(X_train, y_train)"
   ]
  },
  {
   "cell_type": "markdown",
   "metadata": {},
   "source": [
    "**Put the results of the grid search in a pandas DataFrame.**"
   ]
  },
  {
   "cell_type": "code",
   "execution_count": 15,
   "metadata": {},
   "outputs": [
    {
     "data": {
      "text/html": [
       "<div>\n",
       "<style scoped>\n",
       "    .dataframe tbody tr th:only-of-type {\n",
       "        vertical-align: middle;\n",
       "    }\n",
       "\n",
       "    .dataframe tbody tr th {\n",
       "        vertical-align: top;\n",
       "    }\n",
       "\n",
       "    .dataframe thead th {\n",
       "        text-align: right;\n",
       "    }\n",
       "</style>\n",
       "<table border=\"1\" class=\"dataframe\">\n",
       "  <thead>\n",
       "    <tr style=\"text-align: right;\">\n",
       "      <th></th>\n",
       "      <th>mean_fit_time</th>\n",
       "      <th>std_fit_time</th>\n",
       "      <th>mean_score_time</th>\n",
       "      <th>std_score_time</th>\n",
       "      <th>param_max_depth</th>\n",
       "      <th>param_n_estimators</th>\n",
       "      <th>params</th>\n",
       "      <th>split0_test_score</th>\n",
       "      <th>split1_test_score</th>\n",
       "      <th>split2_test_score</th>\n",
       "      <th>split3_test_score</th>\n",
       "      <th>mean_test_score</th>\n",
       "      <th>std_test_score</th>\n",
       "      <th>rank_test_score</th>\n",
       "      <th>split0_train_score</th>\n",
       "      <th>split1_train_score</th>\n",
       "      <th>split2_train_score</th>\n",
       "      <th>split3_train_score</th>\n",
       "      <th>mean_train_score</th>\n",
       "      <th>std_train_score</th>\n",
       "    </tr>\n",
       "  </thead>\n",
       "  <tbody>\n",
       "    <tr>\n",
       "      <th>0</th>\n",
       "      <td>0.157485</td>\n",
       "      <td>0.013480</td>\n",
       "      <td>0.006556</td>\n",
       "      <td>0.005541</td>\n",
       "      <td>3</td>\n",
       "      <td>10</td>\n",
       "      <td>{'max_depth': 3, 'n_estimators': 10}</td>\n",
       "      <td>0.739183</td>\n",
       "      <td>0.746599</td>\n",
       "      <td>0.772127</td>\n",
       "      <td>0.771322</td>\n",
       "      <td>0.757308</td>\n",
       "      <td>0.014656</td>\n",
       "      <td>15</td>\n",
       "      <td>0.767973</td>\n",
       "      <td>0.767158</td>\n",
       "      <td>0.760550</td>\n",
       "      <td>0.763683</td>\n",
       "      <td>0.764841</td>\n",
       "      <td>0.002955</td>\n",
       "    </tr>\n",
       "    <tr>\n",
       "      <th>1</th>\n",
       "      <td>0.687912</td>\n",
       "      <td>0.006188</td>\n",
       "      <td>0.029206</td>\n",
       "      <td>0.001095</td>\n",
       "      <td>3</td>\n",
       "      <td>50</td>\n",
       "      <td>{'max_depth': 3, 'n_estimators': 50}</td>\n",
       "      <td>0.748009</td>\n",
       "      <td>0.755878</td>\n",
       "      <td>0.779465</td>\n",
       "      <td>0.771250</td>\n",
       "      <td>0.763651</td>\n",
       "      <td>0.012379</td>\n",
       "      <td>12</td>\n",
       "      <td>0.775241</td>\n",
       "      <td>0.774025</td>\n",
       "      <td>0.765732</td>\n",
       "      <td>0.766947</td>\n",
       "      <td>0.770486</td>\n",
       "      <td>0.004191</td>\n",
       "    </tr>\n",
       "    <tr>\n",
       "      <th>2</th>\n",
       "      <td>1.412475</td>\n",
       "      <td>0.041571</td>\n",
       "      <td>0.051143</td>\n",
       "      <td>0.001295</td>\n",
       "      <td>3</td>\n",
       "      <td>100</td>\n",
       "      <td>{'max_depth': 3, 'n_estimators': 100}</td>\n",
       "      <td>0.747221</td>\n",
       "      <td>0.753924</td>\n",
       "      <td>0.779195</td>\n",
       "      <td>0.770937</td>\n",
       "      <td>0.762819</td>\n",
       "      <td>0.012811</td>\n",
       "      <td>13</td>\n",
       "      <td>0.774340</td>\n",
       "      <td>0.773598</td>\n",
       "      <td>0.766103</td>\n",
       "      <td>0.766914</td>\n",
       "      <td>0.770238</td>\n",
       "      <td>0.003750</td>\n",
       "    </tr>\n",
       "    <tr>\n",
       "      <th>3</th>\n",
       "      <td>2.753837</td>\n",
       "      <td>0.031917</td>\n",
       "      <td>0.093922</td>\n",
       "      <td>0.002991</td>\n",
       "      <td>3</td>\n",
       "      <td>200</td>\n",
       "      <td>{'max_depth': 3, 'n_estimators': 200}</td>\n",
       "      <td>0.747454</td>\n",
       "      <td>0.753057</td>\n",
       "      <td>0.777644</td>\n",
       "      <td>0.771729</td>\n",
       "      <td>0.762471</td>\n",
       "      <td>0.012550</td>\n",
       "      <td>14</td>\n",
       "      <td>0.774453</td>\n",
       "      <td>0.773534</td>\n",
       "      <td>0.766139</td>\n",
       "      <td>0.767404</td>\n",
       "      <td>0.770382</td>\n",
       "      <td>0.003653</td>\n",
       "    </tr>\n",
       "    <tr>\n",
       "      <th>4</th>\n",
       "      <td>0.249915</td>\n",
       "      <td>0.014105</td>\n",
       "      <td>0.005283</td>\n",
       "      <td>0.004340</td>\n",
       "      <td>6</td>\n",
       "      <td>10</td>\n",
       "      <td>{'max_depth': 6, 'n_estimators': 10}</td>\n",
       "      <td>0.752905</td>\n",
       "      <td>0.758904</td>\n",
       "      <td>0.780036</td>\n",
       "      <td>0.774017</td>\n",
       "      <td>0.766466</td>\n",
       "      <td>0.010980</td>\n",
       "      <td>11</td>\n",
       "      <td>0.795911</td>\n",
       "      <td>0.796476</td>\n",
       "      <td>0.793695</td>\n",
       "      <td>0.796446</td>\n",
       "      <td>0.795632</td>\n",
       "      <td>0.001141</td>\n",
       "    </tr>\n",
       "    <tr>\n",
       "      <th>5</th>\n",
       "      <td>1.314680</td>\n",
       "      <td>0.182811</td>\n",
       "      <td>0.033887</td>\n",
       "      <td>0.003862</td>\n",
       "      <td>6</td>\n",
       "      <td>50</td>\n",
       "      <td>{'max_depth': 6, 'n_estimators': 50}</td>\n",
       "      <td>0.760089</td>\n",
       "      <td>0.765251</td>\n",
       "      <td>0.788567</td>\n",
       "      <td>0.778669</td>\n",
       "      <td>0.773144</td>\n",
       "      <td>0.011193</td>\n",
       "      <td>8</td>\n",
       "      <td>0.807081</td>\n",
       "      <td>0.805109</td>\n",
       "      <td>0.799176</td>\n",
       "      <td>0.801229</td>\n",
       "      <td>0.803149</td>\n",
       "      <td>0.003113</td>\n",
       "    </tr>\n",
       "    <tr>\n",
       "      <th>6</th>\n",
       "      <td>2.452686</td>\n",
       "      <td>0.021385</td>\n",
       "      <td>0.066792</td>\n",
       "      <td>0.003866</td>\n",
       "      <td>6</td>\n",
       "      <td>100</td>\n",
       "      <td>{'max_depth': 6, 'n_estimators': 100}</td>\n",
       "      <td>0.760964</td>\n",
       "      <td>0.765515</td>\n",
       "      <td>0.788793</td>\n",
       "      <td>0.778936</td>\n",
       "      <td>0.773552</td>\n",
       "      <td>0.011004</td>\n",
       "      <td>7</td>\n",
       "      <td>0.808194</td>\n",
       "      <td>0.806130</td>\n",
       "      <td>0.800846</td>\n",
       "      <td>0.803123</td>\n",
       "      <td>0.804573</td>\n",
       "      <td>0.002808</td>\n",
       "    </tr>\n",
       "    <tr>\n",
       "      <th>7</th>\n",
       "      <td>4.886625</td>\n",
       "      <td>0.014648</td>\n",
       "      <td>0.136805</td>\n",
       "      <td>0.010878</td>\n",
       "      <td>6</td>\n",
       "      <td>200</td>\n",
       "      <td>{'max_depth': 6, 'n_estimators': 200}</td>\n",
       "      <td>0.761481</td>\n",
       "      <td>0.765319</td>\n",
       "      <td>0.787854</td>\n",
       "      <td>0.779745</td>\n",
       "      <td>0.773600</td>\n",
       "      <td>0.010682</td>\n",
       "      <td>6</td>\n",
       "      <td>0.808276</td>\n",
       "      <td>0.806853</td>\n",
       "      <td>0.800682</td>\n",
       "      <td>0.804006</td>\n",
       "      <td>0.804954</td>\n",
       "      <td>0.002906</td>\n",
       "    </tr>\n",
       "    <tr>\n",
       "      <th>8</th>\n",
       "      <td>0.345581</td>\n",
       "      <td>0.003366</td>\n",
       "      <td>0.008864</td>\n",
       "      <td>0.005533</td>\n",
       "      <td>9</td>\n",
       "      <td>10</td>\n",
       "      <td>{'max_depth': 9, 'n_estimators': 10}</td>\n",
       "      <td>0.757853</td>\n",
       "      <td>0.755444</td>\n",
       "      <td>0.781544</td>\n",
       "      <td>0.773823</td>\n",
       "      <td>0.767166</td>\n",
       "      <td>0.010899</td>\n",
       "      <td>10</td>\n",
       "      <td>0.854161</td>\n",
       "      <td>0.856197</td>\n",
       "      <td>0.850317</td>\n",
       "      <td>0.852039</td>\n",
       "      <td>0.853178</td>\n",
       "      <td>0.002211</td>\n",
       "    </tr>\n",
       "    <tr>\n",
       "      <th>9</th>\n",
       "      <td>1.701783</td>\n",
       "      <td>0.013638</td>\n",
       "      <td>0.043042</td>\n",
       "      <td>0.003374</td>\n",
       "      <td>9</td>\n",
       "      <td>50</td>\n",
       "      <td>{'max_depth': 9, 'n_estimators': 50}</td>\n",
       "      <td>0.763956</td>\n",
       "      <td>0.764420</td>\n",
       "      <td>0.786690</td>\n",
       "      <td>0.780255</td>\n",
       "      <td>0.773830</td>\n",
       "      <td>0.009908</td>\n",
       "      <td>4</td>\n",
       "      <td>0.867242</td>\n",
       "      <td>0.871380</td>\n",
       "      <td>0.868213</td>\n",
       "      <td>0.867390</td>\n",
       "      <td>0.868557</td>\n",
       "      <td>0.001672</td>\n",
       "    </tr>\n",
       "    <tr>\n",
       "      <th>10</th>\n",
       "      <td>3.418581</td>\n",
       "      <td>0.049260</td>\n",
       "      <td>0.089370</td>\n",
       "      <td>0.000985</td>\n",
       "      <td>9</td>\n",
       "      <td>100</td>\n",
       "      <td>{'max_depth': 9, 'n_estimators': 100}</td>\n",
       "      <td>0.763872</td>\n",
       "      <td>0.765788</td>\n",
       "      <td>0.789016</td>\n",
       "      <td>0.781199</td>\n",
       "      <td>0.774969</td>\n",
       "      <td>0.010530</td>\n",
       "      <td>3</td>\n",
       "      <td>0.872099</td>\n",
       "      <td>0.874119</td>\n",
       "      <td>0.870537</td>\n",
       "      <td>0.871196</td>\n",
       "      <td>0.871988</td>\n",
       "      <td>0.001350</td>\n",
       "    </tr>\n",
       "    <tr>\n",
       "      <th>11</th>\n",
       "      <td>6.811172</td>\n",
       "      <td>0.032337</td>\n",
       "      <td>0.177083</td>\n",
       "      <td>0.015300</td>\n",
       "      <td>9</td>\n",
       "      <td>200</td>\n",
       "      <td>{'max_depth': 9, 'n_estimators': 200}</td>\n",
       "      <td>0.764963</td>\n",
       "      <td>0.767541</td>\n",
       "      <td>0.790255</td>\n",
       "      <td>0.782034</td>\n",
       "      <td>0.776199</td>\n",
       "      <td>0.010402</td>\n",
       "      <td>1</td>\n",
       "      <td>0.873807</td>\n",
       "      <td>0.874909</td>\n",
       "      <td>0.871185</td>\n",
       "      <td>0.871246</td>\n",
       "      <td>0.872787</td>\n",
       "      <td>0.001619</td>\n",
       "    </tr>\n",
       "    <tr>\n",
       "      <th>12</th>\n",
       "      <td>0.430941</td>\n",
       "      <td>0.004781</td>\n",
       "      <td>0.015165</td>\n",
       "      <td>0.004158</td>\n",
       "      <td>12</td>\n",
       "      <td>10</td>\n",
       "      <td>{'max_depth': 12, 'n_estimators': 10}</td>\n",
       "      <td>0.754513</td>\n",
       "      <td>0.751116</td>\n",
       "      <td>0.764061</td>\n",
       "      <td>0.759223</td>\n",
       "      <td>0.757228</td>\n",
       "      <td>0.004884</td>\n",
       "      <td>16</td>\n",
       "      <td>0.922544</td>\n",
       "      <td>0.919157</td>\n",
       "      <td>0.926191</td>\n",
       "      <td>0.914636</td>\n",
       "      <td>0.920632</td>\n",
       "      <td>0.004263</td>\n",
       "    </tr>\n",
       "    <tr>\n",
       "      <th>13</th>\n",
       "      <td>2.135487</td>\n",
       "      <td>0.018706</td>\n",
       "      <td>0.052905</td>\n",
       "      <td>0.003138</td>\n",
       "      <td>12</td>\n",
       "      <td>50</td>\n",
       "      <td>{'max_depth': 12, 'n_estimators': 50}</td>\n",
       "      <td>0.763750</td>\n",
       "      <td>0.763663</td>\n",
       "      <td>0.780781</td>\n",
       "      <td>0.778086</td>\n",
       "      <td>0.771570</td>\n",
       "      <td>0.007921</td>\n",
       "      <td>9</td>\n",
       "      <td>0.940170</td>\n",
       "      <td>0.943000</td>\n",
       "      <td>0.942297</td>\n",
       "      <td>0.937049</td>\n",
       "      <td>0.940629</td>\n",
       "      <td>0.002315</td>\n",
       "    </tr>\n",
       "    <tr>\n",
       "      <th>14</th>\n",
       "      <td>4.262154</td>\n",
       "      <td>0.026947</td>\n",
       "      <td>0.105366</td>\n",
       "      <td>0.004863</td>\n",
       "      <td>12</td>\n",
       "      <td>100</td>\n",
       "      <td>{'max_depth': 12, 'n_estimators': 100}</td>\n",
       "      <td>0.765665</td>\n",
       "      <td>0.765061</td>\n",
       "      <td>0.783413</td>\n",
       "      <td>0.781119</td>\n",
       "      <td>0.773815</td>\n",
       "      <td>0.008493</td>\n",
       "      <td>5</td>\n",
       "      <td>0.942902</td>\n",
       "      <td>0.946968</td>\n",
       "      <td>0.946109</td>\n",
       "      <td>0.942448</td>\n",
       "      <td>0.944607</td>\n",
       "      <td>0.001962</td>\n",
       "    </tr>\n",
       "    <tr>\n",
       "      <th>15</th>\n",
       "      <td>8.606512</td>\n",
       "      <td>0.040708</td>\n",
       "      <td>0.213128</td>\n",
       "      <td>0.001141</td>\n",
       "      <td>12</td>\n",
       "      <td>200</td>\n",
       "      <td>{'max_depth': 12, 'n_estimators': 200}</td>\n",
       "      <td>0.765910</td>\n",
       "      <td>0.766963</td>\n",
       "      <td>0.785611</td>\n",
       "      <td>0.783513</td>\n",
       "      <td>0.775499</td>\n",
       "      <td>0.009101</td>\n",
       "      <td>2</td>\n",
       "      <td>0.945018</td>\n",
       "      <td>0.949378</td>\n",
       "      <td>0.946415</td>\n",
       "      <td>0.944689</td>\n",
       "      <td>0.946375</td>\n",
       "      <td>0.001851</td>\n",
       "    </tr>\n",
       "  </tbody>\n",
       "</table>\n",
       "</div>"
      ],
      "text/plain": [
       "    mean_fit_time  std_fit_time  mean_score_time  std_score_time  \\\n",
       "0        0.157485      0.013480         0.006556        0.005541   \n",
       "1        0.687912      0.006188         0.029206        0.001095   \n",
       "2        1.412475      0.041571         0.051143        0.001295   \n",
       "3        2.753837      0.031917         0.093922        0.002991   \n",
       "4        0.249915      0.014105         0.005283        0.004340   \n",
       "5        1.314680      0.182811         0.033887        0.003862   \n",
       "6        2.452686      0.021385         0.066792        0.003866   \n",
       "7        4.886625      0.014648         0.136805        0.010878   \n",
       "8        0.345581      0.003366         0.008864        0.005533   \n",
       "9        1.701783      0.013638         0.043042        0.003374   \n",
       "10       3.418581      0.049260         0.089370        0.000985   \n",
       "11       6.811172      0.032337         0.177083        0.015300   \n",
       "12       0.430941      0.004781         0.015165        0.004158   \n",
       "13       2.135487      0.018706         0.052905        0.003138   \n",
       "14       4.262154      0.026947         0.105366        0.004863   \n",
       "15       8.606512      0.040708         0.213128        0.001141   \n",
       "\n",
       "   param_max_depth param_n_estimators                                  params  \\\n",
       "0                3                 10    {'max_depth': 3, 'n_estimators': 10}   \n",
       "1                3                 50    {'max_depth': 3, 'n_estimators': 50}   \n",
       "2                3                100   {'max_depth': 3, 'n_estimators': 100}   \n",
       "3                3                200   {'max_depth': 3, 'n_estimators': 200}   \n",
       "4                6                 10    {'max_depth': 6, 'n_estimators': 10}   \n",
       "5                6                 50    {'max_depth': 6, 'n_estimators': 50}   \n",
       "6                6                100   {'max_depth': 6, 'n_estimators': 100}   \n",
       "7                6                200   {'max_depth': 6, 'n_estimators': 200}   \n",
       "8                9                 10    {'max_depth': 9, 'n_estimators': 10}   \n",
       "9                9                 50    {'max_depth': 9, 'n_estimators': 50}   \n",
       "10               9                100   {'max_depth': 9, 'n_estimators': 100}   \n",
       "11               9                200   {'max_depth': 9, 'n_estimators': 200}   \n",
       "12              12                 10   {'max_depth': 12, 'n_estimators': 10}   \n",
       "13              12                 50   {'max_depth': 12, 'n_estimators': 50}   \n",
       "14              12                100  {'max_depth': 12, 'n_estimators': 100}   \n",
       "15              12                200  {'max_depth': 12, 'n_estimators': 200}   \n",
       "\n",
       "    split0_test_score  split1_test_score  split2_test_score  \\\n",
       "0            0.739183           0.746599           0.772127   \n",
       "1            0.748009           0.755878           0.779465   \n",
       "2            0.747221           0.753924           0.779195   \n",
       "3            0.747454           0.753057           0.777644   \n",
       "4            0.752905           0.758904           0.780036   \n",
       "5            0.760089           0.765251           0.788567   \n",
       "6            0.760964           0.765515           0.788793   \n",
       "7            0.761481           0.765319           0.787854   \n",
       "8            0.757853           0.755444           0.781544   \n",
       "9            0.763956           0.764420           0.786690   \n",
       "10           0.763872           0.765788           0.789016   \n",
       "11           0.764963           0.767541           0.790255   \n",
       "12           0.754513           0.751116           0.764061   \n",
       "13           0.763750           0.763663           0.780781   \n",
       "14           0.765665           0.765061           0.783413   \n",
       "15           0.765910           0.766963           0.785611   \n",
       "\n",
       "    split3_test_score  mean_test_score  std_test_score  rank_test_score  \\\n",
       "0            0.771322         0.757308        0.014656               15   \n",
       "1            0.771250         0.763651        0.012379               12   \n",
       "2            0.770937         0.762819        0.012811               13   \n",
       "3            0.771729         0.762471        0.012550               14   \n",
       "4            0.774017         0.766466        0.010980               11   \n",
       "5            0.778669         0.773144        0.011193                8   \n",
       "6            0.778936         0.773552        0.011004                7   \n",
       "7            0.779745         0.773600        0.010682                6   \n",
       "8            0.773823         0.767166        0.010899               10   \n",
       "9            0.780255         0.773830        0.009908                4   \n",
       "10           0.781199         0.774969        0.010530                3   \n",
       "11           0.782034         0.776199        0.010402                1   \n",
       "12           0.759223         0.757228        0.004884               16   \n",
       "13           0.778086         0.771570        0.007921                9   \n",
       "14           0.781119         0.773815        0.008493                5   \n",
       "15           0.783513         0.775499        0.009101                2   \n",
       "\n",
       "    split0_train_score  split1_train_score  split2_train_score  \\\n",
       "0             0.767973            0.767158            0.760550   \n",
       "1             0.775241            0.774025            0.765732   \n",
       "2             0.774340            0.773598            0.766103   \n",
       "3             0.774453            0.773534            0.766139   \n",
       "4             0.795911            0.796476            0.793695   \n",
       "5             0.807081            0.805109            0.799176   \n",
       "6             0.808194            0.806130            0.800846   \n",
       "7             0.808276            0.806853            0.800682   \n",
       "8             0.854161            0.856197            0.850317   \n",
       "9             0.867242            0.871380            0.868213   \n",
       "10            0.872099            0.874119            0.870537   \n",
       "11            0.873807            0.874909            0.871185   \n",
       "12            0.922544            0.919157            0.926191   \n",
       "13            0.940170            0.943000            0.942297   \n",
       "14            0.942902            0.946968            0.946109   \n",
       "15            0.945018            0.949378            0.946415   \n",
       "\n",
       "    split3_train_score  mean_train_score  std_train_score  \n",
       "0             0.763683          0.764841         0.002955  \n",
       "1             0.766947          0.770486         0.004191  \n",
       "2             0.766914          0.770238         0.003750  \n",
       "3             0.767404          0.770382         0.003653  \n",
       "4             0.796446          0.795632         0.001141  \n",
       "5             0.801229          0.803149         0.003113  \n",
       "6             0.803123          0.804573         0.002808  \n",
       "7             0.804006          0.804954         0.002906  \n",
       "8             0.852039          0.853178         0.002211  \n",
       "9             0.867390          0.868557         0.001672  \n",
       "10            0.871196          0.871988         0.001350  \n",
       "11            0.871246          0.872787         0.001619  \n",
       "12            0.914636          0.920632         0.004263  \n",
       "13            0.937049          0.940629         0.002315  \n",
       "14            0.942448          0.944607         0.001962  \n",
       "15            0.944689          0.946375         0.001851  "
      ]
     },
     "execution_count": 15,
     "metadata": {},
     "output_type": "execute_result"
    }
   ],
   "source": [
    "cv_rf_ex_results_df = pd.DataFrame(cv_rf_ex.cv_results_)\n",
    "cv_rf_ex_results_df"
   ]
  },
  {
   "cell_type": "code",
   "execution_count": 16,
   "metadata": {},
   "outputs": [
    {
     "data": {
      "text/plain": [
       "Index(['mean_fit_time', 'std_fit_time', 'mean_score_time', 'std_score_time',\n",
       "       'param_max_depth', 'param_n_estimators', 'params', 'split0_test_score',\n",
       "       'split1_test_score', 'split2_test_score', 'split3_test_score',\n",
       "       'mean_test_score', 'std_test_score', 'rank_test_score',\n",
       "       'split0_train_score', 'split1_train_score', 'split2_train_score',\n",
       "       'split3_train_score', 'mean_train_score', 'std_train_score'],\n",
       "      dtype='object')"
      ]
     },
     "execution_count": 16,
     "metadata": {},
     "output_type": "execute_result"
    }
   ],
   "source": [
    "cv_rf_ex_results_df.columns\n"
   ]
  },
  {
   "cell_type": "code",
   "execution_count": 17,
   "metadata": {},
   "outputs": [
    {
     "data": {
      "image/png": "[encoded data removed]",
      "text/plain": [
       "<Figure size 432x288 with 1 Axes>"
      ]
     },
     "metadata": {
      "needs_background": "light"
     },
     "output_type": "display_data"
    }
   ],
   "source": [
    "ax = plt.axes()\n",
    "ax.errorbar(cv_rf_ex_results_df['param_max_depth'],\n",
    "            cv_rf_ex_results_df['mean_train_score'],\n",
    "            yerr=cv_rf_ex_results_df['std_train_score'],\n",
    "            label='Mean $\\pm$ 1 SD training scores')\n",
    "ax.errorbar(cv_rf_ex_results_df['param_max_depth'],\n",
    "            cv_rf_ex_results_df['mean_test_score'],\n",
    "            yerr=cv_rf_ex_results_df['std_test_score'],\n",
    "            label='Mean $\\pm$ 1 SD testing scores')\n",
    "ax.legend()\n",
    "plt.xlabel('max_depth')\n",
    "plt.ylabel('ROC AUC')\n",
    "plt.show()"
   ]
  },
  {
   "cell_type": "code",
   "execution_count": 18,
   "metadata": {},
   "outputs": [
    {
     "name": "stderr",
     "output_type": "stream",
     "text": [
      "C:\\Users\\Pranjali\\Anaconda3\\lib\\site-packages\\matplotlib\\cbook\\__init__.py:1402: FutureWarning: Support for multi-dimensional indexing (e.g. `obj[:, None]`) is deprecated and will be removed in a future version.  Convert to a numpy array before indexing instead.\n",
      "  x[:, None]\n",
      "C:\\Users\\Pranjali\\Anaconda3\\lib\\site-packages\\matplotlib\\axes\\_base.py:276: FutureWarning: Support for multi-dimensional indexing (e.g. `obj[:, None]`) is deprecated and will be removed in a future version.  Convert to a numpy array before indexing instead.\n",
      "  x = x[:, np.newaxis]\n",
      "C:\\Users\\Pranjali\\Anaconda3\\lib\\site-packages\\matplotlib\\axes\\_base.py:278: FutureWarning: Support for multi-dimensional indexing (e.g. `obj[:, None]`) is deprecated and will be removed in a future version.  Convert to a numpy array before indexing instead.\n",
      "  y = y[:, np.newaxis]\n"
     ]
    },
    {
     "data": {
      "image/png": "[encoded data removed]",
      "text/plain": [
       "<Figure size 432x216 with 2 Axes>"
      ]
     },
     "metadata": {
      "needs_background": "light"
     },
     "output_type": "display_data"
    }
   ],
   "source": [
    "fig, axs = plt.subplots(nrows=1, ncols=2, figsize=(6, 3))\n",
    "axs[0].plot(cv_rf_ex_results_df['param_n_estimators'],\n",
    "            cv_rf_ex_results_df['mean_fit_time'],\n",
    "            '-o')\n",
    "axs[0].set_xlabel('Number of trees')\n",
    "axs[0].set_ylabel('Mean fit time (seconds)')\n",
    "axs[1].errorbar(cv_rf_ex_results_df['param_n_estimators'],\n",
    "                cv_rf_ex_results_df['mean_test_score'],\n",
    "                yerr=cv_rf_ex_results_df['std_test_score'])\n",
    "axs[1].set_xlabel('Number of trees')\n",
    "axs[1].set_ylabel('Mean testing ROC AUC $\\pm$ 1 SD ')\n",
    "plt.tight_layout()"
   ]
  },
  {
   "cell_type": "markdown",
   "metadata": {},
   "source": [
    "**Find the best hyperparameters from the cross-validation.**"
   ]
  },
  {
   "cell_type": "code",
   "execution_count": 19,
   "metadata": {},
   "outputs": [
    {
     "data": {
      "text/plain": [
       "{'max_depth': 9, 'n_estimators': 200}"
      ]
     },
     "execution_count": 19,
     "metadata": {},
     "output_type": "execute_result"
    }
   ],
   "source": [
    "cv_rf_ex.best_params_"
   ]
  },
  {
   "cell_type": "markdown",
   "metadata": {},
   "source": [
    "**Create a `pcolormesh` visualization of the mean testing score for each combination of hyperparameters.**"
   ]
  },
  {
   "cell_type": "code",
   "execution_count": 20,
   "metadata": {},
   "outputs": [
    {
     "name": "stdout",
     "output_type": "stream",
     "text": [
      "[[0 1 2 3 4]\n",
      " [0 1 2 3 4]\n",
      " [0 1 2 3 4]\n",
      " [0 1 2 3 4]\n",
      " [0 1 2 3 4]]\n",
      "[[0 0 0 0 0]\n",
      " [1 1 1 1 1]\n",
      " [2 2 2 2 2]\n",
      " [3 3 3 3 3]\n",
      " [4 4 4 4 4]]\n"
     ]
    }
   ],
   "source": [
    "xx_example, yy_example = np.meshgrid(range(5), range(5))\n",
    "print(xx_example)\n",
    "print(yy_example)"
   ]
  },
  {
   "cell_type": "code",
   "execution_count": 21,
   "metadata": {},
   "outputs": [
    {
     "data": {
      "text/plain": [
       "array([[ 1,  2,  3,  4],\n",
       "       [ 5,  6,  7,  8],\n",
       "       [ 9, 10, 11, 12],\n",
       "       [13, 14, 15, 16]])"
      ]
     },
     "execution_count": 21,
     "metadata": {},
     "output_type": "execute_result"
    }
   ],
   "source": [
    "z_example = np.arange(1,17).reshape(4,4)\n",
    "z_example"
   ]
  },
  {
   "cell_type": "code",
   "execution_count": 22,
   "metadata": {},
   "outputs": [
    {
     "data": {
      "text/plain": [
       "Text(0, 0.5, 'Y coordinate')"
      ]
     },
     "execution_count": 22,
     "metadata": {},
     "output_type": "execute_result"
    },
    {
     "data": {
      "image/png": "[encoded data removed]",
      "text/plain": [
       "<Figure size 432x288 with 2 Axes>"
      ]
     },
     "metadata": {
      "needs_background": "light"
     },
     "output_type": "display_data"
    }
   ],
   "source": [
    "ax = plt.axes()\n",
    "pcolor_ex = ax.pcolormesh(xx_example, yy_example, z_example, cmap=plt.cm.jet)\n",
    "plt.colorbar(pcolor_ex, label='Color scale')\n",
    "ax.set_xlabel('X coordinate')\n",
    "ax.set_ylabel('Y coordinate')"
   ]
  },
  {
   "cell_type": "markdown",
   "metadata": {},
   "source": [
    "**Conclude which set of hyperparameters to use.**"
   ]
  },
  {
   "cell_type": "code",
   "execution_count": 23,
   "metadata": {},
   "outputs": [],
   "source": [
    "# Create a dataframe of the feature names and importance\n",
    "feat_imp_df = pd.DataFrame({\n",
    "    'Feature name':features_response[:-1],\n",
    "    'Importance':cv_rf_ex.best_estimator_.feature_importances_\n",
    "})\n"
   ]
  },
  {
   "cell_type": "code",
   "execution_count": 24,
   "metadata": {},
   "outputs": [
    {
     "data": {
      "text/html": [
       "<div>\n",
       "<style scoped>\n",
       "    .dataframe tbody tr th:only-of-type {\n",
       "        vertical-align: middle;\n",
       "    }\n",
       "\n",
       "    .dataframe tbody tr th {\n",
       "        vertical-align: top;\n",
       "    }\n",
       "\n",
       "    .dataframe thead th {\n",
       "        text-align: right;\n",
       "    }\n",
       "</style>\n",
       "<table border=\"1\" class=\"dataframe\">\n",
       "  <thead>\n",
       "    <tr style=\"text-align: right;\">\n",
       "      <th></th>\n",
       "      <th>Feature name</th>\n",
       "      <th>Importance</th>\n",
       "    </tr>\n",
       "  </thead>\n",
       "  <tbody>\n",
       "    <tr>\n",
       "      <th>4</th>\n",
       "      <td>PAY_1</td>\n",
       "      <td>0.437439</td>\n",
       "    </tr>\n",
       "    <tr>\n",
       "      <th>0</th>\n",
       "      <td>LIMIT_BAL</td>\n",
       "      <td>0.059961</td>\n",
       "    </tr>\n",
       "    <tr>\n",
       "      <th>11</th>\n",
       "      <td>PAY_AMT1</td>\n",
       "      <td>0.059434</td>\n",
       "    </tr>\n",
       "    <tr>\n",
       "      <th>12</th>\n",
       "      <td>PAY_AMT2</td>\n",
       "      <td>0.045518</td>\n",
       "    </tr>\n",
       "    <tr>\n",
       "      <th>13</th>\n",
       "      <td>PAY_AMT3</td>\n",
       "      <td>0.043299</td>\n",
       "    </tr>\n",
       "    <tr>\n",
       "      <th>5</th>\n",
       "      <td>BILL_AMT1</td>\n",
       "      <td>0.042195</td>\n",
       "    </tr>\n",
       "    <tr>\n",
       "      <th>6</th>\n",
       "      <td>BILL_AMT2</td>\n",
       "      <td>0.041562</td>\n",
       "    </tr>\n",
       "    <tr>\n",
       "      <th>7</th>\n",
       "      <td>BILL_AMT3</td>\n",
       "      <td>0.037268</td>\n",
       "    </tr>\n",
       "    <tr>\n",
       "      <th>14</th>\n",
       "      <td>PAY_AMT4</td>\n",
       "      <td>0.034321</td>\n",
       "    </tr>\n",
       "    <tr>\n",
       "      <th>8</th>\n",
       "      <td>BILL_AMT4</td>\n",
       "      <td>0.034123</td>\n",
       "    </tr>\n",
       "    <tr>\n",
       "      <th>10</th>\n",
       "      <td>BILL_AMT6</td>\n",
       "      <td>0.033839</td>\n",
       "    </tr>\n",
       "    <tr>\n",
       "      <th>9</th>\n",
       "      <td>BILL_AMT5</td>\n",
       "      <td>0.032413</td>\n",
       "    </tr>\n",
       "    <tr>\n",
       "      <th>15</th>\n",
       "      <td>PAY_AMT5</td>\n",
       "      <td>0.030734</td>\n",
       "    </tr>\n",
       "    <tr>\n",
       "      <th>16</th>\n",
       "      <td>PAY_AMT6</td>\n",
       "      <td>0.029070</td>\n",
       "    </tr>\n",
       "    <tr>\n",
       "      <th>3</th>\n",
       "      <td>AGE</td>\n",
       "      <td>0.026774</td>\n",
       "    </tr>\n",
       "    <tr>\n",
       "      <th>1</th>\n",
       "      <td>EDUCATION</td>\n",
       "      <td>0.007545</td>\n",
       "    </tr>\n",
       "    <tr>\n",
       "      <th>2</th>\n",
       "      <td>MARRIAGE</td>\n",
       "      <td>0.004504</td>\n",
       "    </tr>\n",
       "  </tbody>\n",
       "</table>\n",
       "</div>"
      ],
      "text/plain": [
       "   Feature name  Importance\n",
       "4         PAY_1    0.437439\n",
       "0     LIMIT_BAL    0.059961\n",
       "11     PAY_AMT1    0.059434\n",
       "12     PAY_AMT2    0.045518\n",
       "13     PAY_AMT3    0.043299\n",
       "5     BILL_AMT1    0.042195\n",
       "6     BILL_AMT2    0.041562\n",
       "7     BILL_AMT3    0.037268\n",
       "14     PAY_AMT4    0.034321\n",
       "8     BILL_AMT4    0.034123\n",
       "10    BILL_AMT6    0.033839\n",
       "9     BILL_AMT5    0.032413\n",
       "15     PAY_AMT5    0.030734\n",
       "16     PAY_AMT6    0.029070\n",
       "3           AGE    0.026774\n",
       "1     EDUCATION    0.007545\n",
       "2      MARRIAGE    0.004504"
      ]
     },
     "execution_count": 24,
     "metadata": {},
     "output_type": "execute_result"
    }
   ],
   "source": [
    "# Sort values by importance\n",
    "feat_imp_df.sort_values(\"Importance\", ascending = False)\n"
   ]
  },
  {
   "cell_type": "code",
   "execution_count": null,
   "metadata": {},
   "outputs": [],
   "source": []
  }
 ],
 "metadata": {
  "kernelspec": {
   "display_name": "Python 3",
   "language": "python",
   "name": "python3"
  },
  "language_info": {
   "codemirror_mode": {
    "name": "ipython",
    "version": 3
   },
   "file_extension": ".py",
   "mimetype": "text/x-python",
   "name": "python",
   "nbconvert_exporter": "python",
   "pygments_lexer": "ipython3",
   "version": "3.7.3"
  }
 },
 "nbformat": 4,
 "nbformat_minor": 2
}
